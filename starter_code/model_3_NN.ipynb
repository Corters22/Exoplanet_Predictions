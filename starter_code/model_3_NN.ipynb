{
 "cells": [
  {
   "cell_type": "markdown",
   "metadata": {},
   "source": [
    "# Neural Network Model"
   ]
  },
  {
   "cell_type": "code",
   "execution_count": 1,
   "metadata": {},
   "outputs": [],
   "source": [
    "import pandas as pd"
   ]
  },
  {
   "cell_type": "markdown",
   "metadata": {},
   "source": [
    "## The Dataset"
   ]
  },
  {
   "cell_type": "code",
   "execution_count": 2,
   "metadata": {},
   "outputs": [],
   "source": [
    "df = pd.read_csv(\"exoplanet_data.csv\")\n",
    "# Drop the null columns where all values are null\n",
    "df = df.dropna(axis='columns', how='all')\n",
    "# Drop the null rows\n",
    "df = df.dropna()"
   ]
  },
  {
   "cell_type": "markdown",
   "metadata": {},
   "source": [
    "## Data Pre-Processing"
   ]
  },
  {
   "cell_type": "code",
   "execution_count": 3,
   "metadata": {},
   "outputs": [],
   "source": [
    "target = df['koi_disposition']\n",
    "target_names = ['Confirmed', 'False Positive', 'Candidate']\n",
    "df = df.drop(\"koi_disposition\", axis=1)"
   ]
  },
  {
   "cell_type": "code",
   "execution_count": 4,
   "metadata": {},
   "outputs": [],
   "source": [
    "# Set features. This will also be used as your x values.\n",
    "selected_features = df[['koi_fpflag_nt', 'koi_fpflag_ss', 'koi_fpflag_co',\n",
    "       'koi_fpflag_ec', 'koi_period','koi_time0bk', 'koi_impact',\n",
    "        'koi_duration', 'koi_depth', 'koi_prad', 'koi_teq', 'koi_insol', \n",
    "       'koi_model_snr', 'koi_steff', 'koi_slogg', 'koi_srad', 'ra', 'dec',\n",
    "       'koi_kepmag']]"
   ]
  },
  {
   "cell_type": "code",
   "execution_count": 5,
   "metadata": {},
   "outputs": [],
   "source": [
    "from sklearn.model_selection import train_test_split\n",
    "\n",
    "X_train, X_test, y_train, y_test = train_test_split(selected_features, target, random_state=1)"
   ]
  },
  {
   "cell_type": "code",
   "execution_count": 6,
   "metadata": {},
   "outputs": [],
   "source": [
    "from sklearn.preprocessing import StandardScaler\n",
    "\n",
    "X_scaler = StandardScaler().fit(X_train)"
   ]
  },
  {
   "cell_type": "code",
   "execution_count": 7,
   "metadata": {},
   "outputs": [],
   "source": [
    "X_train_scaled = X_scaler.transform(X_train)\n",
    "X_test_scaled = X_scaler.transform(X_test)"
   ]
  },
  {
   "cell_type": "code",
   "execution_count": 8,
   "metadata": {},
   "outputs": [],
   "source": [
    "from sklearn.preprocessing import LabelEncoder\n",
    "\n",
    "# Step 1: Label-encode data set\n",
    "label_encoder = LabelEncoder()\n",
    "label_encoder.fit(y_train)\n",
    "encoded_y_train = label_encoder.transform(y_train)\n",
    "encoded_y_test = label_encoder.transform(y_test)"
   ]
  },
  {
   "cell_type": "code",
   "execution_count": 9,
   "metadata": {},
   "outputs": [
    {
     "name": "stderr",
     "output_type": "stream",
     "text": [
      "Using TensorFlow backend.\n"
     ]
    }
   ],
   "source": [
    "from keras.utils import to_categorical\n",
    "\n",
    "# Step 2: Convert encoded labels to one-hot-encoding\n",
    "y_train_categorical = to_categorical(encoded_y_train)\n",
    "y_test_categorical = to_categorical(encoded_y_test)"
   ]
  },
  {
   "cell_type": "markdown",
   "metadata": {},
   "source": [
    "## Create a Deep Learning Model"
   ]
  },
  {
   "cell_type": "code",
   "execution_count": 10,
   "metadata": {},
   "outputs": [],
   "source": [
    "from tensorflow.keras.models import Sequential\n",
    "from tensorflow.keras.layers import Dense\n",
    "\n",
    "# Create a Neural Network model here\n",
    "deep_model = Sequential()\n",
    "deep_model.add(Dense(units=6, activation='relu', input_dim=19))\n",
    "#deep_model.add(Dense(units=6, activation='relu'))\n",
    "deep_model.add(Dense(units=3, activation='softmax'))"
   ]
  },
  {
   "cell_type": "code",
   "execution_count": 11,
   "metadata": {},
   "outputs": [
    {
     "name": "stdout",
     "output_type": "stream",
     "text": [
      "Train on 5243 samples\n",
      "Epoch 1/100\n",
      "5243/5243 - 1s - loss: 0.9632 - accuracy: 0.5184\n",
      "Epoch 2/100\n",
      "5243/5243 - 0s - loss: 0.7140 - accuracy: 0.6784\n",
      "Epoch 3/100\n",
      "5243/5243 - 0s - loss: 0.5644 - accuracy: 0.7318\n",
      "Epoch 4/100\n",
      "5243/5243 - 0s - loss: 0.4809 - accuracy: 0.7448\n",
      "Epoch 5/100\n",
      "5243/5243 - 0s - loss: 0.4437 - accuracy: 0.7471\n",
      "Epoch 6/100\n",
      "5243/5243 - 0s - loss: 0.4256 - accuracy: 0.7694\n",
      "Epoch 7/100\n",
      "5243/5243 - 0s - loss: 0.4148 - accuracy: 0.7829\n",
      "Epoch 8/100\n",
      "5243/5243 - 0s - loss: 0.4072 - accuracy: 0.7971\n",
      "Epoch 9/100\n",
      "5243/5243 - 0s - loss: 0.4008 - accuracy: 0.7942\n",
      "Epoch 10/100\n",
      "5243/5243 - 0s - loss: 0.3948 - accuracy: 0.7957\n",
      "Epoch 11/100\n",
      "5243/5243 - 0s - loss: 0.3888 - accuracy: 0.8034\n",
      "Epoch 12/100\n",
      "5243/5243 - 0s - loss: 0.3828 - accuracy: 0.8091\n",
      "Epoch 13/100\n",
      "5243/5243 - 0s - loss: 0.3782 - accuracy: 0.8138\n",
      "Epoch 14/100\n",
      "5243/5243 - 0s - loss: 0.3736 - accuracy: 0.8133\n",
      "Epoch 15/100\n",
      "5243/5243 - 0s - loss: 0.3703 - accuracy: 0.8184\n",
      "Epoch 16/100\n",
      "5243/5243 - 0s - loss: 0.3673 - accuracy: 0.8179\n",
      "Epoch 17/100\n",
      "5243/5243 - 0s - loss: 0.3651 - accuracy: 0.8209\n",
      "Epoch 18/100\n",
      "5243/5243 - 0s - loss: 0.3632 - accuracy: 0.8226\n",
      "Epoch 19/100\n",
      "5243/5243 - 0s - loss: 0.3611 - accuracy: 0.8236\n",
      "Epoch 20/100\n",
      "5243/5243 - 0s - loss: 0.3599 - accuracy: 0.8226\n",
      "Epoch 21/100\n",
      "5243/5243 - 0s - loss: 0.3581 - accuracy: 0.8241\n",
      "Epoch 22/100\n",
      "5243/5243 - 0s - loss: 0.3567 - accuracy: 0.8249\n",
      "Epoch 23/100\n",
      "5243/5243 - 0s - loss: 0.3560 - accuracy: 0.8266\n",
      "Epoch 24/100\n",
      "5243/5243 - 0s - loss: 0.3541 - accuracy: 0.8266\n",
      "Epoch 25/100\n",
      "5243/5243 - 0s - loss: 0.3533 - accuracy: 0.8283\n",
      "Epoch 26/100\n",
      "5243/5243 - 0s - loss: 0.3523 - accuracy: 0.8264\n",
      "Epoch 27/100\n",
      "5243/5243 - 0s - loss: 0.3511 - accuracy: 0.8285\n",
      "Epoch 28/100\n",
      "5243/5243 - 0s - loss: 0.3503 - accuracy: 0.8282\n",
      "Epoch 29/100\n",
      "5243/5243 - 0s - loss: 0.3497 - accuracy: 0.8287\n",
      "Epoch 30/100\n",
      "5243/5243 - 0s - loss: 0.3487 - accuracy: 0.8295\n",
      "Epoch 31/100\n",
      "5243/5243 - 0s - loss: 0.3479 - accuracy: 0.8283\n",
      "Epoch 32/100\n",
      "5243/5243 - 0s - loss: 0.3470 - accuracy: 0.8282\n",
      "Epoch 33/100\n",
      "5243/5243 - 0s - loss: 0.3467 - accuracy: 0.8297\n",
      "Epoch 34/100\n",
      "5243/5243 - 0s - loss: 0.3459 - accuracy: 0.8312\n",
      "Epoch 35/100\n",
      "5243/5243 - 0s - loss: 0.3453 - accuracy: 0.8306\n",
      "Epoch 36/100\n",
      "5243/5243 - 0s - loss: 0.3445 - accuracy: 0.8322\n",
      "Epoch 37/100\n",
      "5243/5243 - 0s - loss: 0.3442 - accuracy: 0.8310\n",
      "Epoch 38/100\n",
      "5243/5243 - 0s - loss: 0.3432 - accuracy: 0.8341\n",
      "Epoch 39/100\n",
      "5243/5243 - 0s - loss: 0.3431 - accuracy: 0.8308\n",
      "Epoch 40/100\n",
      "5243/5243 - 0s - loss: 0.3424 - accuracy: 0.8337\n",
      "Epoch 41/100\n",
      "5243/5243 - 0s - loss: 0.3421 - accuracy: 0.8310\n",
      "Epoch 42/100\n",
      "5243/5243 - 0s - loss: 0.3415 - accuracy: 0.8322\n",
      "Epoch 43/100\n",
      "5243/5243 - 0s - loss: 0.3410 - accuracy: 0.8331\n",
      "Epoch 44/100\n",
      "5243/5243 - 0s - loss: 0.3404 - accuracy: 0.8327\n",
      "Epoch 45/100\n",
      "5243/5243 - 0s - loss: 0.3397 - accuracy: 0.8337\n",
      "Epoch 46/100\n",
      "5243/5243 - 0s - loss: 0.3395 - accuracy: 0.8352\n",
      "Epoch 47/100\n",
      "5243/5243 - 0s - loss: 0.3389 - accuracy: 0.8344\n",
      "Epoch 48/100\n",
      "5243/5243 - 0s - loss: 0.3385 - accuracy: 0.8337\n",
      "Epoch 49/100\n",
      "5243/5243 - 0s - loss: 0.3380 - accuracy: 0.8354\n",
      "Epoch 50/100\n",
      "5243/5243 - 0s - loss: 0.3376 - accuracy: 0.8322\n",
      "Epoch 51/100\n",
      "5243/5243 - 0s - loss: 0.3371 - accuracy: 0.8308\n",
      "Epoch 52/100\n",
      "5243/5243 - 0s - loss: 0.3369 - accuracy: 0.8348\n",
      "Epoch 53/100\n",
      "5243/5243 - 0s - loss: 0.3364 - accuracy: 0.8335\n",
      "Epoch 54/100\n",
      "5243/5243 - 0s - loss: 0.3360 - accuracy: 0.8333\n",
      "Epoch 55/100\n",
      "5243/5243 - 0s - loss: 0.3357 - accuracy: 0.8346\n",
      "Epoch 56/100\n",
      "5243/5243 - 0s - loss: 0.3357 - accuracy: 0.8329\n",
      "Epoch 57/100\n",
      "5243/5243 - 0s - loss: 0.3350 - accuracy: 0.8331\n",
      "Epoch 58/100\n",
      "5243/5243 - 0s - loss: 0.3352 - accuracy: 0.8333\n",
      "Epoch 59/100\n",
      "5243/5243 - 0s - loss: 0.3344 - accuracy: 0.8350\n",
      "Epoch 60/100\n",
      "5243/5243 - 0s - loss: 0.3340 - accuracy: 0.8343\n",
      "Epoch 61/100\n",
      "5243/5243 - 0s - loss: 0.3338 - accuracy: 0.8339\n",
      "Epoch 62/100\n",
      "5243/5243 - 0s - loss: 0.3333 - accuracy: 0.8364\n",
      "Epoch 63/100\n",
      "5243/5243 - 0s - loss: 0.3334 - accuracy: 0.8354\n",
      "Epoch 64/100\n",
      "5243/5243 - 0s - loss: 0.3332 - accuracy: 0.8333\n",
      "Epoch 65/100\n",
      "5243/5243 - 0s - loss: 0.3323 - accuracy: 0.8318\n",
      "Epoch 66/100\n",
      "5243/5243 - 0s - loss: 0.3325 - accuracy: 0.8339\n",
      "Epoch 67/100\n",
      "5243/5243 - 0s - loss: 0.3320 - accuracy: 0.8341\n",
      "Epoch 68/100\n",
      "5243/5243 - 0s - loss: 0.3322 - accuracy: 0.8346\n",
      "Epoch 69/100\n",
      "5243/5243 - 0s - loss: 0.3316 - accuracy: 0.8333\n",
      "Epoch 70/100\n",
      "5243/5243 - 0s - loss: 0.3312 - accuracy: 0.8335\n",
      "Epoch 71/100\n",
      "5243/5243 - 0s - loss: 0.3312 - accuracy: 0.8343\n",
      "Epoch 72/100\n",
      "5243/5243 - 0s - loss: 0.3309 - accuracy: 0.8327\n",
      "Epoch 73/100\n",
      "5243/5243 - 0s - loss: 0.3302 - accuracy: 0.8352\n",
      "Epoch 74/100\n",
      "5243/5243 - 0s - loss: 0.3303 - accuracy: 0.8346\n",
      "Epoch 75/100\n",
      "5243/5243 - 0s - loss: 0.3303 - accuracy: 0.8341\n",
      "Epoch 76/100\n",
      "5243/5243 - 0s - loss: 0.3299 - accuracy: 0.8327\n",
      "Epoch 77/100\n",
      "5243/5243 - 0s - loss: 0.3295 - accuracy: 0.8323\n",
      "Epoch 78/100\n",
      "5243/5243 - 0s - loss: 0.3297 - accuracy: 0.8337\n",
      "Epoch 79/100\n",
      "5243/5243 - 0s - loss: 0.3295 - accuracy: 0.8325\n",
      "Epoch 80/100\n",
      "5243/5243 - 0s - loss: 0.3289 - accuracy: 0.8343\n",
      "Epoch 81/100\n",
      "5243/5243 - 0s - loss: 0.3286 - accuracy: 0.8343\n",
      "Epoch 82/100\n",
      "5243/5243 - 0s - loss: 0.3286 - accuracy: 0.8354\n",
      "Epoch 83/100\n",
      "5243/5243 - 0s - loss: 0.3285 - accuracy: 0.8312\n",
      "Epoch 84/100\n",
      "5243/5243 - 0s - loss: 0.3282 - accuracy: 0.8339\n",
      "Epoch 85/100\n",
      "5243/5243 - 0s - loss: 0.3286 - accuracy: 0.8339\n",
      "Epoch 86/100\n",
      "5243/5243 - 0s - loss: 0.3276 - accuracy: 0.8333\n",
      "Epoch 87/100\n",
      "5243/5243 - 0s - loss: 0.3276 - accuracy: 0.8327\n",
      "Epoch 88/100\n",
      "5243/5243 - 0s - loss: 0.3273 - accuracy: 0.8348\n",
      "Epoch 89/100\n",
      "5243/5243 - 0s - loss: 0.3273 - accuracy: 0.8348\n",
      "Epoch 90/100\n",
      "5243/5243 - 0s - loss: 0.3273 - accuracy: 0.8346\n",
      "Epoch 91/100\n",
      "5243/5243 - 0s - loss: 0.3271 - accuracy: 0.8360\n",
      "Epoch 92/100\n",
      "5243/5243 - 0s - loss: 0.3268 - accuracy: 0.8331\n",
      "Epoch 93/100\n",
      "5243/5243 - 0s - loss: 0.3266 - accuracy: 0.8356\n",
      "Epoch 94/100\n",
      "5243/5243 - 0s - loss: 0.3264 - accuracy: 0.8360\n",
      "Epoch 95/100\n",
      "5243/5243 - 0s - loss: 0.3263 - accuracy: 0.8339\n",
      "Epoch 96/100\n",
      "5243/5243 - 0s - loss: 0.3265 - accuracy: 0.8358\n",
      "Epoch 97/100\n",
      "5243/5243 - 0s - loss: 0.3260 - accuracy: 0.8352\n",
      "Epoch 98/100\n",
      "5243/5243 - 0s - loss: 0.3261 - accuracy: 0.8373\n",
      "Epoch 99/100\n",
      "5243/5243 - 0s - loss: 0.3257 - accuracy: 0.8358\n",
      "Epoch 100/100\n",
      "5243/5243 - 0s - loss: 0.3258 - accuracy: 0.8360\n"
     ]
    },
    {
     "data": {
      "text/plain": [
       "<tensorflow.python.keras.callbacks.History at 0x1c47c306c50>"
      ]
     },
     "execution_count": 11,
     "metadata": {},
     "output_type": "execute_result"
    }
   ],
   "source": [
    "# Compile and fit the model\n",
    "deep_model.compile(optimizer='adam',\n",
    "                   loss='categorical_crossentropy',\n",
    "                   metrics=['accuracy'])\n",
    "\n",
    "deep_model.fit(\n",
    "    X_train_scaled,\n",
    "    y_train_categorical,\n",
    "    epochs=100,\n",
    "    shuffle=True,\n",
    "    verbose=2\n",
    ")"
   ]
  },
  {
   "cell_type": "markdown",
   "metadata": {},
   "source": [
    "## Quantify our Trained Model"
   ]
  },
  {
   "cell_type": "code",
   "execution_count": 12,
   "metadata": {},
   "outputs": [
    {
     "name": "stdout",
     "output_type": "stream",
     "text": [
      "1748/1748 - 0s - loss: 0.3290 - accuracy: 0.8473\n",
      "Normal Neural Network - Loss: 0.32898509495591133, Accuracy: 0.8472539782524109\n"
     ]
    }
   ],
   "source": [
    "model_loss, model_accuracy = deep_model.evaluate(X_test_scaled, y_test_categorical, verbose=2)\n",
    "print(f\"Normal Neural Network - Loss: {model_loss}, Accuracy: {model_accuracy}\")"
   ]
  },
  {
   "cell_type": "code",
   "execution_count": 13,
   "metadata": {},
   "outputs": [
    {
     "name": "stdout",
     "output_type": "stream",
     "text": [
      "Actual Labels: ['CONFIRMED', 'FALSE POSITIVE', 'FALSE POSITIVE', 'CONFIRMED', 'FALSE POSITIVE'], Predicted labels: [0 2 2 1 2]\n"
     ]
    }
   ],
   "source": [
    "# Use the first 5 test data values to make a prediction and compare it to the actual labels\n",
    "predictions = deep_model.predict_classes(X_test_scaled[:5])\n",
    "\n",
    "\n",
    "print(f\"Actual Labels: {list(y_test[:5])}, Predicted labels: {predictions}\")"
   ]
  }
 ],
 "metadata": {
  "kernelspec": {
   "display_name": "advPython3.6",
   "language": "python",
   "name": "advpython3.6"
  },
  "language_info": {
   "codemirror_mode": {
    "name": "ipython",
    "version": 3
   },
   "file_extension": ".py",
   "mimetype": "text/x-python",
   "name": "python",
   "nbconvert_exporter": "python",
   "pygments_lexer": "ipython3",
   "version": "3.6.12"
  }
 },
 "nbformat": 4,
 "nbformat_minor": 4
}
